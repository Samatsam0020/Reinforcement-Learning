{
 "cells": [
  {
   "cell_type": "code",
   "execution_count": 1,
   "id": "05eb64d9-dc58-4b3e-82ff-3db457fbb4f2",
   "metadata": {},
   "outputs": [],
   "source": [
    "import numpy as np\n",
    "import random"
   ]
  },
  {
   "cell_type": "code",
   "execution_count": 15,
   "id": "48faa373-5ef0-41ca-8b53-8ccdeef3ccfc",
   "metadata": {},
   "outputs": [],
   "source": [
    "class LinearChain:\n",
    "    def __init__(self, n_states=10):\n",
    "        self.n_states = n_states\n",
    "        self.start = 0\n",
    "        self.end = n_states - 1\n",
    "        self.state = self.start\n",
    "        self.actions = ['left', 'right']\n",
    "    \n",
    "    def reset(self):\n",
    "        self.state = self.start\n",
    "        return self.state\n",
    "    \n",
    "    def step(self, action):\n",
    "        if action == 'left':\n",
    "            self.state = max(0, self.state - 1)\n",
    "        elif action == 'right':\n",
    "            self.state = min(self.n_states - 1, self.state + 1)\n",
    "    \n",
    "        reward = 1 if self.state == self.end else 0\n",
    "        done = self.state == self.end  \n",
    "        return self.state, reward, done"
   ]
  },
  {
   "cell_type": "code",
   "execution_count": 16,
   "id": "fc339dd2-3963-4dd1-a5ce-0be970e7b128",
   "metadata": {},
   "outputs": [],
   "source": [
    "#SARSA algorithme On-Policy\n",
    "def sarsa(env, episodes=500, alpha=0.1, gamma=0.9, epsilon=0.1): \n",
    "    Q = {s: {a: 0 for a in env.actions} for s in range(env.n_states)}\n",
    "\n",
    "    for episode in range(episodes): \n",
    "        state = env.reset()\n",
    "        action = choose_action(state, Q, epsilon, env.actions)\n",
    "\n",
    "        while True: \n",
    "            next_state, reward, done = env.step(action)\n",
    "            next_action = choose_action(next_state, Q, epsilon, env.actions)\n",
    "\n",
    "            # SARSA UPDATE\n",
    "            Q[state][action] += alpha * (reward + gamma * Q[next_state][next_action] - Q[state][action])\n",
    "            state, action = next_state, next_action\n",
    "\n",
    "            if done: \n",
    "                break\n",
    "\n",
    "    return Q"
   ]
  },
  {
   "cell_type": "code",
   "execution_count": 17,
   "id": "325a2cce-fe9a-4296-87dc-f3f279305449",
   "metadata": {},
   "outputs": [],
   "source": [
    "#epsilon-greedy policy\n",
    "def choose_action(state, Q, epsilon, actions):\n",
    "    if random.random() < epsilon:\n",
    "        return random.choice(actions)\n",
    "    else:\n",
    "        return max(Q[state], key=Q[state].get)"
   ]
  },
  {
   "cell_type": "code",
   "execution_count": 24,
   "id": "6f51c6d7-b2ed-4b0c-a17f-6ec87c67e595",
   "metadata": {},
   "outputs": [],
   "source": [
    "env = LinearChain(n_states=6)\n",
    "Q = sarsa(env, episodes=50)"
   ]
  },
  {
   "cell_type": "code",
   "execution_count": 25,
   "id": "bf36c1dc-57d0-421a-89cb-aa642d301632",
   "metadata": {},
   "outputs": [
    {
     "name": "stdout",
     "output_type": "stream",
     "text": [
      "state 0 : {'left': 0.018466953262478963, 'right': 0.32487462849253407}\n",
      "state 1 : {'left': 0.029544628488536992, 'right': 0.4923427422517089}\n",
      "state 2 : {'left': 0.030139855042335923, 'right': 0.658319833635631}\n",
      "state 3 : {'left': 0.1370689627853191, 'right': 0.8690326987435225}\n",
      "state 4 : {'left': 0.024858735844581897, 'right': 0.9948462247926799}\n",
      "state 5 : {'left': 0, 'right': 0}\n",
      "\n",
      " optimal choice : \n",
      "Etat 0, Action right\n",
      "Etat 1, Action right\n",
      "Etat 2, Action right\n",
      "Etat 3, Action right\n",
      "Etat 4, Action right\n"
     ]
    }
   ],
   "source": [
    "for state, actions in Q.items():\n",
    "    print(f\"state {state} : {actions}\")\n",
    "state = env.reset()\n",
    "\n",
    "print(\"\\n optimal choice : \")\n",
    "while state != env.end : \n",
    "    action = max(Q[state], key=Q[state].get)\n",
    "    print(f\"Etat {state}, Action {action}\")\n",
    "    state, _, _ = env.step(action)"
   ]
  }
 ],
 "metadata": {
  "kernelspec": {
   "display_name": "Python 3 (ipykernel)",
   "language": "python",
   "name": "python3"
  },
  "language_info": {
   "codemirror_mode": {
    "name": "ipython",
    "version": 3
   },
   "file_extension": ".py",
   "mimetype": "text/x-python",
   "name": "python",
   "nbconvert_exporter": "python",
   "pygments_lexer": "ipython3",
   "version": "3.12.3"
  }
 },
 "nbformat": 4,
 "nbformat_minor": 5
}
