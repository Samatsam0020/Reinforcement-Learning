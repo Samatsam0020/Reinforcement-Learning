{
 "cells": [
  {
   "cell_type": "code",
   "execution_count": 2,
   "id": "5b28120c-6361-4bcc-b6d1-feb8a0cb43ee",
   "metadata": {},
   "outputs": [],
   "source": [
    "import numpy as np"
   ]
  },
  {
   "cell_type": "code",
   "execution_count": 3,
   "id": "4a7704a7-12b1-49f8-9ddf-21a54bf631c5",
   "metadata": {},
   "outputs": [],
   "source": [
    "#transition matrix\n",
    "P = np.array([[0.3, 0.7],\n",
    "              [0.2, 0.8]])"
   ]
  },
  {
   "cell_type": "code",
   "execution_count": 4,
   "id": "c3fa251a-567d-4252-bf0e-ec20ced59abf",
   "metadata": {},
   "outputs": [],
   "source": [
    "#starting probabilities\n",
    "S = np.array([0.5, 0.5])"
   ]
  },
  {
   "cell_type": "code",
   "execution_count": 6,
   "id": "d7cc59c2-c22f-4cfa-b6fe-5ba5da9115f2",
   "metadata": {},
   "outputs": [
    {
     "name": "stdout",
     "output_type": "stream",
     "text": [
      "\n",
      "Iter 0. State Probability vector S = [0.25 0.75]\n",
      "\n",
      "Iter 5. State Probability vector S = [0.2222225 0.7777775]\n",
      "\n",
      "Final Vector S=[0.22222222 0.77777778]\n"
     ]
    }
   ],
   "source": [
    "#Calculate steady state\n",
    "for i in range(10) : \n",
    "    S = np.dot(S,P)\n",
    "    if i%5 == 0 : \n",
    "        print(\"\\nIter {0}. State Probability vector S = {1}\".format(i, S))\n",
    "\n",
    "print(\"\\nFinal Vector S={0}\".format(S))"
   ]
  },
  {
   "cell_type": "code",
   "execution_count": null,
   "id": "6e34f158-1638-4ad6-8de1-59d868496b5a",
   "metadata": {},
   "outputs": [],
   "source": []
  },
  {
   "cell_type": "code",
   "execution_count": null,
   "id": "f06b2816-8980-416e-a152-3bc637f440d1",
   "metadata": {},
   "outputs": [],
   "source": []
  }
 ],
 "metadata": {
  "kernelspec": {
   "display_name": "Python 3 (ipykernel)",
   "language": "python",
   "name": "python3"
  },
  "language_info": {
   "codemirror_mode": {
    "name": "ipython",
    "version": 3
   },
   "file_extension": ".py",
   "mimetype": "text/x-python",
   "name": "python",
   "nbconvert_exporter": "python",
   "pygments_lexer": "ipython3",
   "version": "3.12.3"
  }
 },
 "nbformat": 4,
 "nbformat_minor": 5
}
